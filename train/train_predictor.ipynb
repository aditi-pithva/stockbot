{
 "cells": [
  {
   "cell_type": "code",
   "execution_count": null,
   "id": "382ec4f0",
   "metadata": {},
   "outputs": [],
   "source": [
    "import torch\n",
    "import torch.nn as nn\n",
    "import pandas as pd\n",
    "from sklearn.model_selection import train_test_split\n",
    "from sklearn.preprocessing import StandardScaler\n",
    "from bayes_opt import BayesianOptimization\n",
    "import pickle\n",
    "import os"
   ]
  },
  {
   "cell_type": "code",
   "execution_count": null,
   "id": "7be33007",
   "metadata": {},
   "outputs": [],
   "source": [
    "BASE_DIR = os.getcwd()\n",
    "DATA_PATH = os.path.join(BASE_DIR, \"stock_features.csv\")\n",
    "SCALER_PATH = os.path.join(BASE_DIR, \"scaler.pkl\")\n",
    "MODEL_PATH = os.path.join(BASE_DIR, \"tenson.pt\")"
   ]
  },
  {
   "cell_type": "code",
   "execution_count": null,
   "id": "5295f252",
   "metadata": {},
   "outputs": [],
   "source": [
    "df = pd.read_csv(DATA_PATH)\n",
    "df.head()"
   ]
  },
  {
   "cell_type": "code",
   "execution_count": null,
   "id": "f6ca254d",
   "metadata": {},
   "outputs": [],
   "source": [
    "features = df.columns.drop([\"ticker\", \"label\"])\n",
    "X = df[features].values\n",
    "y = df[\"label\"].map({\"BUY\": 0, \"HOLD\": 1, \"SELL\": 2}).values"
   ]
  },
  {
   "cell_type": "code",
   "execution_count": null,
   "id": "99b355a5",
   "metadata": {},
   "outputs": [],
   "source": [
    "scaler = StandardScaler()\n",
    "X_scaled = scaler.fit_transform(X)\n",
    "\n",
    "with open(SCALER_PATH, \"wb\") as f:\n",
    "    pickle.dump(scaler, f)"
   ]
  },
  {
   "cell_type": "code",
   "execution_count": null,
   "id": "18ed673a",
   "metadata": {},
   "outputs": [],
   "source": [
    "X_train, X_val, y_train, y_val = train_test_split(X_scaled, y, test_size=0.2, random_state=42)\n",
    "X_train = torch.tensor(X_train, dtype=torch.float32)\n",
    "X_val = torch.tensor(X_val, dtype=torch.float32)\n",
    "y_train = torch.tensor(y_train, dtype=torch.long)\n",
    "y_val = torch.tensor(y_val, dtype=torch.long)"
   ]
  },
  {
   "cell_type": "code",
   "execution_count": null,
   "id": "3dd74f90",
   "metadata": {},
   "outputs": [],
   "source": [
    "class StockClassifier(nn.Module):\n",
    "    def __init__(self, input_dim=25, dropout=0.3):\n",
    "        super().__init__()\n",
    "        self.net = nn.Sequential(\n",
    "            nn.Linear(input_dim, 32),\n",
    "            nn.ReLU(),\n",
    "            nn.Dropout(dropout),\n",
    "            nn.Linear(32, 3)\n",
    "        )\n",
    "    def forward(self, x):\n",
    "        return self.net(x)"
   ]
  },
  {
   "cell_type": "code",
   "execution_count": null,
   "id": "9131fb2f",
   "metadata": {},
   "outputs": [],
   "source": [
    "def train_model(lr, dropout):\n",
    "    model = StockClassifier(dropout=float(dropout))\n",
    "    optimizer = torch.optim.Adam(model.parameters(), lr=float(lr))\n",
    "    loss_fn = nn.CrossEntropyLoss()\n",
    "\n",
    "    for _ in range(5):\n",
    "        model.train()\n",
    "        logits = model(X_train)\n",
    "        loss = loss_fn(logits, y_train)\n",
    "        optimizer.zero_grad()\n",
    "        loss.backward()\n",
    "        optimizer.step()\n",
    "\n",
    "    model.eval()\n",
    "    val_logits = model(X_val)\n",
    "    val_loss = loss_fn(val_logits, y_val).item()\n",
    "    return -val_loss"
   ]
  },
  {
   "cell_type": "code",
   "execution_count": null,
   "id": "9f752e9a",
   "metadata": {},
   "outputs": [],
   "source": [
    "pbounds = {\n",
    "    \"lr\": (1e-5, 1e-3),\n",
    "    \"dropout\": (0.1, 0.5)\n",
    "}\n",
    "\n",
    "optimizer = BayesianOptimization(f=train_model, pbounds=pbounds, verbose=2)"
   ]
  },
  {
   "cell_type": "code",
   "execution_count": null,
   "id": "3df8f412",
   "metadata": {},
   "outputs": [],
   "source": [
    "optimizer.maximize(init_points=2, n_iter=5)"
   ]
  },
  {
   "cell_type": "code",
   "execution_count": null,
   "id": "2fd9cf5e",
   "metadata": {},
   "outputs": [],
   "source": [
    "best_params = optimizer.max[\"params\"]\n",
    "print(\"Best Parameters:\", best_params)"
   ]
  },
  {
   "cell_type": "code",
   "execution_count": null,
   "id": "ebb2cc3a",
   "metadata": {},
   "outputs": [],
   "source": [
    "final_model = StockClassifier(dropout=best_params[\"dropout\"])\n",
    "optimizer_final = torch.optim.Adam(final_model.parameters(), lr=best_params[\"lr\"])\n",
    "loss_fn = nn.CrossEntropyLoss()\n",
    "\n",
    "for epoch in range(10):\n",
    "    final_model.train()\n",
    "    logits = final_model(X_train)\n",
    "    loss = loss_fn(logits, y_train)\n",
    "    optimizer_final.zero_grad()\n",
    "    loss.backward()\n",
    "    optimizer_final.step()"
   ]
  },
  {
   "cell_type": "code",
   "execution_count": null,
   "id": "ae7d9fc8",
   "metadata": {},
   "outputs": [],
   "source": [
    "final_model.eval()\n",
    "val_logits = final_model(X_val)\n",
    "val_loss = loss_fn(val_logits, y_val).item()\n",
    "print(f\"Validation Loss: {val_loss}\")"
   ]
  },
  {
   "cell_type": "code",
   "execution_count": null,
   "id": "badcba30",
   "metadata": {},
   "outputs": [],
   "source": [
    "torch.save(final_model.state_dict(), MODEL_PATH)\n",
    "print(f\"✅ Model saved to: {MODEL_PATH}\")\n",
    "print(f\"✅ Scaler saved to: {SCALER_PATH}\")"
   ]
  }
 ],
 "metadata": {
  "kernelspec": {
   "display_name": "Python 3",
   "name": "python3"
  },
  "language_info": {
   "name": "python",
   "version": "3.11"
  }
 },
 "nbformat": 4,
 "nbformat_minor": 5
}
